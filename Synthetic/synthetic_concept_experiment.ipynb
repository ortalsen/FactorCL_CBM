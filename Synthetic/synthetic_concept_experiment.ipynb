{
 "cells": [
  {
   "cell_type": "code",
   "execution_count": 1,
   "id": "cb2e1c29",
   "metadata": {},
   "outputs": [],
   "source": [
    "import sys\n",
    "sys.path.append('../')\n",
    "\n",
    "from dataset import*\n",
    "from synthetic_concept_model import *\n",
    "from torch.utils.data import DataLoader\n",
    "from sklearn.linear_model import LogisticRegression\n",
    "from sklearn.metrics import accuracy_score, precision_score, recall_score, f1_score"
   ]
  },
  {
   "cell_type": "markdown",
   "id": "4454ff7e",
   "metadata": {},
   "source": [
    "### Data generation"
   ]
  },
  {
   "cell_type": "code",
   "execution_count": 2,
   "id": "cb3a5653",
   "metadata": {},
   "outputs": [],
   "source": [
    "feature_dim_info = dict()\n",
    "label_dim_info = dict()\n",
    "transform_dim = 100000\n",
    "\n",
    "intersections = get_intersections(num_modalities=2)\n",
    "\n",
    "feature_dim_info['12'] = 10\n",
    "feature_dim_info['1'] = 6\n",
    "feature_dim_info['2'] = 6\n",
    "\n",
    "label_dim_info['12'] = 10\n",
    "label_dim_info['1'] = 6\n",
    "label_dim_info['2'] = 6\n",
    "num_concepts = 2\n",
    "transforms_2concept = None\n",
    "transforms_2hd = None\n",
    "num_data = 1000\n",
    "total_data, total_labels, total_concepts, total_raw_features = generate_data_concepts(num_data, num_concepts,\n",
    "                                                                                      feature_dim_info,\n",
    "                                                                                      label_dim_info,\n",
    "                                                                                      transform_dim=transform_dim,\n",
    "                                                                                     noise=0.5,\n",
    "                                                                                     pos_prob=0.7)"
   ]
  },
  {
   "cell_type": "code",
   "execution_count": 3,
   "id": "968974b7",
   "metadata": {},
   "outputs": [],
   "source": [
    "# Data splitting & loading\n",
    "dataset = MultiConcept(total_data, total_labels, total_concepts, 0)\n",
    "batch_size = 100\n",
    "trainval_dataset, test_dataset = torch.utils.data.random_split(dataset,  \n",
    "                                                            [int(0.5 * num_data), num_data - int(0.5 * num_data)])\n",
    "train_dataset, val_dataset = torch.utils.data.random_split(trainval_dataset,\n",
    "                                                           [int(0.8 * len(trainval_dataset)), len(trainval_dataset) - int(0.8 * len(trainval_dataset))])\n",
    "\n",
    "train_loader = DataLoader(train_dataset, shuffle=True, drop_last=True,\n",
    "                          batch_size=batch_size)\n",
    "val_loader = DataLoader(val_dataset, shuffle=True, batch_size=batch_size, drop_last=True)\n",
    "test_loader = DataLoader(test_dataset, shuffle=False, drop_last=False)"
   ]
  },
  {
   "cell_type": "markdown",
   "id": "9f31d4dc",
   "metadata": {},
   "source": [
    "### Experiment 1\n",
    "One known concept $c_1$ derived from information components $W_{U_1}, W_s$. Label $Y$ is composed of information components $y=f(W_{U_1}, W_s, W_{U_2})$. We try to recover $W_{U_2}$ by $\\arg \\max_{Z_x} I(Z_x;Y|Z_{c_1})$, assuming that $Z_{c_1}$ represents $\\{W_{U_1}, W_s\\}$\n"
   ]
  },
  {
   "cell_type": "code",
   "execution_count": 5,
   "id": "e160d497",
   "metadata": {},
   "outputs": [],
   "source": [
    "# models\n",
    "device = torch.device('cuda' if torch.cuda.is_available() else 'cpu')\n",
    "hidden_dim = 512\n",
    "embed_dim = 50\n",
    "concept_encoder = ConceptEncoder(transform_dim, embed_dim, 1, hidden_dim).to(device)\n",
    "model = ConceptCLSUP(transform_dim, embed_dim, 2, hidden_dim, embed_dim).to(device)"
   ]
  },
  {
   "cell_type": "code",
   "execution_count": 6,
   "id": "8e524a3e",
   "metadata": {},
   "outputs": [
    {
     "name": "stdout",
     "output_type": "stream",
     "text": [
      "Train Epoch: 0 [0/400 (0%)]\tConcept Loss: 2.218029\n",
      "Val loss: 9.472379\n",
      "Train Epoch: 1 [0/400 (0%)]\tConcept Loss: 9.272290\n",
      "Train Epoch: 2 [0/400 (0%)]\tConcept Loss: 10.312690\n",
      "Train Epoch: 3 [0/400 (0%)]\tConcept Loss: 2.059592\n",
      "Val loss: 1.172986\n",
      "Train Epoch: 4 [0/400 (0%)]\tConcept Loss: 1.456407\n",
      "Train Epoch: 5 [0/400 (0%)]\tConcept Loss: 1.675846\n",
      "Train Epoch: 6 [0/400 (0%)]\tConcept Loss: 1.062924\n",
      "Val loss: 3.072671\n",
      "Val loss did not improve\n"
     ]
    }
   ],
   "source": [
    "# train concpet encoder\n",
    "trained_concept_encoder = train_concept_encoder(concept_encoder, train_loader,val_loader, transform_dim, device, 1e-3, 1e-5, 25, 3, '../trained_models')"
   ]
  },
  {
   "cell_type": "code",
   "execution_count": 7,
   "id": "7e6dacb7",
   "metadata": {},
   "outputs": [
    {
     "name": "stdout",
     "output_type": "stream",
     "text": [
      "Train Epoch: 0 [0/400 (0%)]\tConcept Loss: -0.000050\n",
      "Val loss: -0.084921\n",
      "Train Epoch: 1 [0/400 (0%)]\tConcept Loss: -0.093654\n",
      "Train Epoch: 2 [0/400 (0%)]\tConcept Loss: -0.426325\n",
      "Train Epoch: 3 [0/400 (0%)]\tConcept Loss: -0.907629\n",
      "Val loss: -1.366242\n",
      "Train Epoch: 4 [0/400 (0%)]\tConcept Loss: -1.329677\n",
      "Train Epoch: 5 [0/400 (0%)]\tConcept Loss: -1.862257\n",
      "Train Epoch: 6 [0/400 (0%)]\tConcept Loss: -2.323284\n",
      "Val loss: -2.507186\n",
      "Train Epoch: 7 [0/400 (0%)]\tConcept Loss: -2.514968\n",
      "Train Epoch: 8 [0/400 (0%)]\tConcept Loss: -2.642528\n",
      "Train Epoch: 9 [0/400 (0%)]\tConcept Loss: -2.948462\n",
      "Val loss: -3.026505\n",
      "Train Epoch: 10 [0/400 (0%)]\tConcept Loss: -3.085452\n",
      "Train Epoch: 11 [0/400 (0%)]\tConcept Loss: -3.089523\n",
      "Train Epoch: 12 [0/400 (0%)]\tConcept Loss: -3.193561\n",
      "Val loss: -3.247119\n",
      "Train Epoch: 13 [0/400 (0%)]\tConcept Loss: -3.312241\n",
      "Train Epoch: 14 [0/400 (0%)]\tConcept Loss: -3.325592\n",
      "Train Epoch: 15 [0/400 (0%)]\tConcept Loss: -3.571067\n",
      "Val loss: -3.460700\n",
      "Train Epoch: 16 [0/400 (0%)]\tConcept Loss: -3.625950\n",
      "Train Epoch: 17 [0/400 (0%)]\tConcept Loss: -3.484578\n",
      "Train Epoch: 18 [0/400 (0%)]\tConcept Loss: -3.586540\n",
      "Val loss: -3.568850\n",
      "Train Epoch: 19 [0/400 (0%)]\tConcept Loss: -3.732697\n",
      "Train Epoch: 20 [0/400 (0%)]\tConcept Loss: -3.750498\n",
      "Train Epoch: 21 [0/400 (0%)]\tConcept Loss: -3.789621\n",
      "Val loss: -3.677607\n",
      "Train Epoch: 22 [0/400 (0%)]\tConcept Loss: -3.802099\n",
      "Train Epoch: 23 [0/400 (0%)]\tConcept Loss: -3.768425\n",
      "Train Epoch: 24 [0/400 (0%)]\tConcept Loss: -3.738346\n",
      "Val loss: -3.665808\n",
      "Val loss did not improve\n"
     ]
    }
   ],
   "source": [
    "# train concept informed model\n",
    "trained_concept_informed_model = train_concept_informed_model(trained_concept_encoder, model, train_loader, val_loader, 100, device, 1e-4, 25, 3, '../trained_models')"
   ]
  },
  {
   "cell_type": "code",
   "execution_count": 8,
   "id": "530c78b3",
   "metadata": {},
   "outputs": [
    {
     "name": "stdout",
     "output_type": "stream",
     "text": [
      "Accuracy: 0.992\n",
      "Precision: 0.974025974025974\n",
      "Recall: 1.0\n",
      "F1-score: 0.9868421052631579\n"
     ]
    }
   ],
   "source": [
    "# Evaluation using linear logistic regression model\n",
    "\n",
    "# Embeddings\n",
    "train_embeds = trained_concept_encoder.get_embedding(torch.stack([sample[0] for sample in  train_dataset]).to(device)).detach().cpu().numpy()\n",
    "train_labels = np.array([sample[-1].item() for sample in  train_dataset])\n",
    "\n",
    "test_embeds = trained_concept_encoder.get_embedding(torch.stack([sample[0] for sample in  test_dataset]).to(device)).detach().cpu().numpy()\n",
    "test_labels = np.array([sample[-1].item() for sample in  test_dataset])\n",
    "\n",
    "# Train Logistic Classifier\n",
    "clf = LogisticRegression(max_iter=1000).fit(train_embeds, train_labels)\n",
    "predictions = clf.predict(test_embeds)\n",
    "\n",
    "# Calculate and print accuracy\n",
    "accuracy = accuracy_score(test_labels, predictions)\n",
    "print(\"Accuracy:\", accuracy)\n",
    "\n",
    "# Calculate and print precision\n",
    "precision = precision_score(test_labels, predictions)\n",
    "print(\"Precision:\", precision)\n",
    "\n",
    "# Calculate and print recall\n",
    "recall = recall_score(test_labels, predictions)\n",
    "print(\"Recall:\", recall)\n",
    "\n",
    "# Calculate and print F1-score\n",
    "f1 = f1_score(test_labels, predictions)\n",
    "print(\"F1-score:\", f1)"
   ]
  },
  {
   "cell_type": "markdown",
   "id": "5575e2f6",
   "metadata": {},
   "source": [
    "### Baseline 1 (logistic regression on $x$)"
   ]
  },
  {
   "cell_type": "code",
   "execution_count": 9,
   "id": "ef7c9952",
   "metadata": {},
   "outputs": [
    {
     "name": "stdout",
     "output_type": "stream",
     "text": [
      "Accuracy: 0.988\n",
      "Precision: 0.9736842105263158\n",
      "Recall: 0.9866666666666667\n",
      "F1-score: 0.9801324503311258\n"
     ]
    }
   ],
   "source": [
    "# Embeddings\n",
    "train_embeds = torch.stack([sample[0] for sample in  train_dataset]).detach().cpu().numpy()\n",
    "train_labels = np.array([sample[-1].item() for sample in  train_dataset])\n",
    "\n",
    "test_embeds = torch.stack([sample[0] for sample in  test_dataset]).detach().cpu().numpy()\n",
    "test_labels = np.array([sample[-1].item() for sample in  test_dataset])\n",
    "\n",
    "# Train Logistic Classifier\n",
    "clf = LogisticRegression(max_iter=1000).fit(train_embeds, train_labels)\n",
    "predictions = clf.predict(test_embeds)\n",
    "\n",
    "# Calculate and print accuracy\n",
    "accuracy = accuracy_score(test_labels, predictions)\n",
    "print(\"Accuracy:\", accuracy)\n",
    "\n",
    "# Calculate and print precision\n",
    "precision = precision_score(test_labels, predictions)\n",
    "print(\"Precision:\", precision)\n",
    "\n",
    "# Calculate and print recall\n",
    "recall = recall_score(test_labels, predictions)\n",
    "print(\"Recall:\", recall)\n",
    "\n",
    "# Calculate and print F1-score\n",
    "f1 = f1_score(test_labels, predictions)\n",
    "print(\"F1-score:\", f1)"
   ]
  },
  {
   "cell_type": "code",
   "execution_count": 10,
   "id": "d6fea5be",
   "metadata": {},
   "outputs": [
    {
     "data": {
      "text/plain": [
       "0.27"
      ]
     },
     "execution_count": 10,
     "metadata": {},
     "output_type": "execute_result"
    }
   ],
   "source": [
    "sum(train_labels)/len(train_labels)"
   ]
  }
 ],
 "metadata": {
  "kernelspec": {
   "display_name": "My Virtual Environment",
   "language": "python",
   "name": "phyml"
  },
  "language_info": {
   "codemirror_mode": {
    "name": "ipython",
    "version": 3
   },
   "file_extension": ".py",
   "mimetype": "text/x-python",
   "name": "python",
   "nbconvert_exporter": "python",
   "pygments_lexer": "ipython3",
   "version": "3.9.12"
  }
 },
 "nbformat": 4,
 "nbformat_minor": 5
}
